{
 "cells": [
  {
   "cell_type": "code",
   "execution_count": 56,
   "metadata": {},
   "outputs": [],
   "source": [
    "import pandas as pd\n",
    "import geonamescache\n",
    "import re"
   ]
  },
  {
   "cell_type": "code",
   "execution_count": 57,
   "metadata": {},
   "outputs": [],
   "source": [
    "path = \"./data/headlines.txt\"\n",
    "f = open(path, 'r')\n",
    "headlines = f.read()\n",
    "headlines_list = headlines.splitlines()\n",
    "f.close()\n",
    "\n",
    "# headlines_list = ['Zika Outbreak Hits Miami', 'Could Zika Reach New York City?', 'First Case of Zika in Miami Beach', 'Mystery Virus Spreads in Recife, Brazil',]"
   ]
  },
  {
   "cell_type": "code",
   "execution_count": 58,
   "metadata": {
    "scrolled": true
   },
   "outputs": [],
   "source": [
    "gc = geonamescache.GeonamesCache()\n",
    "countries = gc.get_countries()\n",
    "countries_list = {}\n",
    "for key, value in countries.items():\n",
    "    countries_list[key] = value[\"name\"]\n",
    "\n",
    "# countries_list = {'AD': 'Andorra', 'AE': 'United Arab Emirates'...}"
   ]
  },
  {
   "cell_type": "code",
   "execution_count": 59,
   "metadata": {
    "scrolled": false
   },
   "outputs": [],
   "source": [
    "cities = gc.get_cities()\n",
    "cities_list = {}\n",
    "for value in cities.values():\n",
    "    cities_list[value[\"name\"]] = value[\"countrycode\"]\n",
    "\n",
    "# cities_list = {'Andorra la Vella': 'AD', 'Umm Al Quwain City': 'AE'...}"
   ]
  },
  {
   "cell_type": "code",
   "execution_count": 77,
   "metadata": {},
   "outputs": [],
   "source": [
    "# To save time while iterating over cities join them with \"|\" by 100 in group\n",
    "\n",
    "cities_list_reformatted = []\n",
    "part_size = 100\n",
    "start_index = 0\n",
    "end_index = part_size\n",
    "\n",
    "index = 0\n",
    "city_part_list = []\n",
    "for city_name in cities_list:\n",
    "    if index < part_size:\n",
    "        index += 1\n",
    "    else: \n",
    "        cities_list_reformatted.append(city_part_list)\n",
    "        city_part_list = []\n",
    "        index = 1\n",
    "    city_part_list.append(city_name)\n",
    "if (len(city_part_list)): \n",
    "    cities_list_reformatted.append(city_part_list)\n",
    "\n",
    "# Sort each sublist to put longer words at the beginnig in order regex find them first (eg. \"Miami Beach|Miami\": otherwise regex find \"Miami\" and will ignore \"Miami Beach\")\n",
    "for cl in cities_list_reformatted:\n",
    "    cl.sort(key=lambda city: len(city), reverse=True)\n",
    "\n",
    "cities_list_reformatted = ['|'.join(y) for y in cities_list_reformatted]\n",
    "\n",
    "# cities_list_reformatted = ['Markaz-e Woluswalī-ye Āchīn|Reef Al Fujairah City|Ras Al Khaimah City|... , ..|..|..]"
   ]
  },
  {
   "cell_type": "code",
   "execution_count": 73,
   "metadata": {},
   "outputs": [
    {
     "data": {
      "text/html": [
       "<div>\n",
       "<style scoped>\n",
       "    .dataframe tbody tr th:only-of-type {\n",
       "        vertical-align: middle;\n",
       "    }\n",
       "\n",
       "    .dataframe tbody tr th {\n",
       "        vertical-align: top;\n",
       "    }\n",
       "\n",
       "    .dataframe thead th {\n",
       "        text-align: right;\n",
       "    }\n",
       "</style>\n",
       "<table border=\"1\" class=\"dataframe\">\n",
       "  <thead>\n",
       "    <tr style=\"text-align: right;\">\n",
       "      <th></th>\n",
       "      <th>headline</th>\n",
       "      <th>city</th>\n",
       "      <th>country</th>\n",
       "    </tr>\n",
       "  </thead>\n",
       "  <tbody>\n",
       "    <tr>\n",
       "      <th>0</th>\n",
       "      <td>Zika Outbreak Hits Miami</td>\n",
       "      <td>[Miami]</td>\n",
       "      <td>NaN</td>\n",
       "    </tr>\n",
       "    <tr>\n",
       "      <th>1</th>\n",
       "      <td>Could Zika Reach New York City?</td>\n",
       "      <td>[York, New York City]</td>\n",
       "      <td>NaN</td>\n",
       "    </tr>\n",
       "    <tr>\n",
       "      <th>2</th>\n",
       "      <td>First Case of Zika in Miami Beach</td>\n",
       "      <td>[Miami Beach]</td>\n",
       "      <td>NaN</td>\n",
       "    </tr>\n",
       "    <tr>\n",
       "      <th>3</th>\n",
       "      <td>Mystery Virus Spreads in Recife, Brazil</td>\n",
       "      <td>[Recife]</td>\n",
       "      <td>[Brazil]</td>\n",
       "    </tr>\n",
       "    <tr>\n",
       "      <th>4</th>\n",
       "      <td>Dallas man comes down with case of Zika</td>\n",
       "      <td>[Dallas]</td>\n",
       "      <td>NaN</td>\n",
       "    </tr>\n",
       "  </tbody>\n",
       "</table>\n",
       "</div>"
      ],
      "text/plain": [
       "                                  headline                   city   country\n",
       "0                 Zika Outbreak Hits Miami                [Miami]       NaN\n",
       "1          Could Zika Reach New York City?  [York, New York City]       NaN\n",
       "2        First Case of Zika in Miami Beach          [Miami Beach]       NaN\n",
       "3  Mystery Virus Spreads in Recife, Brazil               [Recife]  [Brazil]\n",
       "4  Dallas man comes down with case of Zika               [Dallas]       NaN"
      ]
     },
     "execution_count": 73,
     "metadata": {},
     "output_type": "execute_result"
    }
   ],
   "source": [
    "extracted_places_list = []\n",
    "for headline in headlines_list:\n",
    "    hl_with_places = {'headline': headline}\n",
    "    \n",
    "    # extract countries     \n",
    "    for code, country in countries_list.items():\n",
    "        pattern = '(^|[^a-zA-Z-])(' + country + ')($|[^a-zA-Z-])'\n",
    "        s = re.search(pattern, headline)\n",
    "        if s:\n",
    "            if (not 'country' in hl_with_places):\n",
    "                hl_with_places['country'] = []\n",
    "            hl_with_places['country'].append(country)    \n",
    "\n",
    "    # extract cities\n",
    "    for cities in cities_list_reformatted:\n",
    "        pattern = '(^|[^a-zA-Z-])(' + cities + ')($|[^a-zA-Z-])'\n",
    "        s = re.search(pattern, headline)\n",
    "        if s:\n",
    "            if (not 'city' in hl_with_places):\n",
    "                hl_with_places['city'] = []\n",
    "            hl_with_places['city'].append(s.group(2))    \n",
    "    \n",
    "    extracted_places_list.append(hl_with_places)\n",
    "            \n",
    "extracted_places_df = pd.DataFrame(extracted_places_list)\n",
    "extracted_places_df.head()\n"
   ]
  },
  {
   "cell_type": "code",
   "execution_count": 74,
   "metadata": {},
   "outputs": [],
   "source": [
    "def remove_substrings(city_list):\n",
    "    i = 0\n",
    "    while i < len(city_list):\n",
    "        j = i + 1\n",
    "        while j < len(city_list):\n",
    "            pattern = '(^|[^a-zA-Z-])(' + city_list[i] + ')($|[^a-zA-Z-])'\n",
    "            if (re.search(pattern, city_list[j])):\n",
    "                del city_list[i]\n",
    "                break\n",
    "            else:\n",
    "                j += 1\n",
    "        if (j == len(city_list)):\n",
    "            i += 1    \n",
    "    return city_list"
   ]
  },
  {
   "cell_type": "code",
   "execution_count": 75,
   "metadata": {},
   "outputs": [],
   "source": [
    "# remove substrings from city column\n",
    "for index, row in extracted_places_df.iterrows():\n",
    "    if (isinstance(row['city'], list) and len(row['city']) > 1):\n",
    "        row['city'].sort(key=lambda city: len(city))\n",
    "        remove_substrings(row['city'])"
   ]
  },
  {
   "cell_type": "code",
   "execution_count": 76,
   "metadata": {},
   "outputs": [
    {
     "data": {
      "text/html": [
       "<div>\n",
       "<style scoped>\n",
       "    .dataframe tbody tr th:only-of-type {\n",
       "        vertical-align: middle;\n",
       "    }\n",
       "\n",
       "    .dataframe tbody tr th {\n",
       "        vertical-align: top;\n",
       "    }\n",
       "\n",
       "    .dataframe thead th {\n",
       "        text-align: right;\n",
       "    }\n",
       "</style>\n",
       "<table border=\"1\" class=\"dataframe\">\n",
       "  <thead>\n",
       "    <tr style=\"text-align: right;\">\n",
       "      <th></th>\n",
       "      <th>headline</th>\n",
       "      <th>city</th>\n",
       "      <th>country</th>\n",
       "    </tr>\n",
       "  </thead>\n",
       "  <tbody>\n",
       "    <tr>\n",
       "      <th>0</th>\n",
       "      <td>Zika Outbreak Hits Miami</td>\n",
       "      <td>[Miami]</td>\n",
       "      <td>NaN</td>\n",
       "    </tr>\n",
       "    <tr>\n",
       "      <th>1</th>\n",
       "      <td>Could Zika Reach New York City?</td>\n",
       "      <td>[New York City]</td>\n",
       "      <td>NaN</td>\n",
       "    </tr>\n",
       "    <tr>\n",
       "      <th>2</th>\n",
       "      <td>First Case of Zika in Miami Beach</td>\n",
       "      <td>[Miami Beach]</td>\n",
       "      <td>NaN</td>\n",
       "    </tr>\n",
       "    <tr>\n",
       "      <th>3</th>\n",
       "      <td>Mystery Virus Spreads in Recife, Brazil</td>\n",
       "      <td>[Recife]</td>\n",
       "      <td>[Brazil]</td>\n",
       "    </tr>\n",
       "    <tr>\n",
       "      <th>4</th>\n",
       "      <td>Dallas man comes down with case of Zika</td>\n",
       "      <td>[Dallas]</td>\n",
       "      <td>NaN</td>\n",
       "    </tr>\n",
       "  </tbody>\n",
       "</table>\n",
       "</div>"
      ],
      "text/plain": [
       "                                  headline             city   country\n",
       "0                 Zika Outbreak Hits Miami          [Miami]       NaN\n",
       "1          Could Zika Reach New York City?  [New York City]       NaN\n",
       "2        First Case of Zika in Miami Beach    [Miami Beach]       NaN\n",
       "3  Mystery Virus Spreads in Recife, Brazil         [Recife]  [Brazil]\n",
       "4  Dallas man comes down with case of Zika         [Dallas]       NaN"
      ]
     },
     "execution_count": 76,
     "metadata": {},
     "output_type": "execute_result"
    }
   ],
   "source": [
    "extracted_places_df.head()"
   ]
  },
  {
   "cell_type": "code",
   "execution_count": null,
   "metadata": {},
   "outputs": [],
   "source": []
  }
 ],
 "metadata": {
  "kernelspec": {
   "display_name": "Python 3",
   "language": "python",
   "name": "python3"
  },
  "language_info": {
   "codemirror_mode": {
    "name": "ipython",
    "version": 3
   },
   "file_extension": ".py",
   "mimetype": "text/x-python",
   "name": "python",
   "nbconvert_exporter": "python",
   "pygments_lexer": "ipython3",
   "version": "3.7.6"
  }
 },
 "nbformat": 4,
 "nbformat_minor": 4
}
